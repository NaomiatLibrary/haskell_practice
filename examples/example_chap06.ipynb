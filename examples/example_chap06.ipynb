{
 "cells": [
  {
   "cell_type": "markdown",
   "id": "seasonal-landscape",
   "metadata": {},
   "source": [
    "# Chapter6 : Module\n"
   ]
  },
  {
   "cell_type": "code",
   "execution_count": 1,
   "id": "packed-example",
   "metadata": {},
   "outputs": [],
   "source": [
    "import Data.List"
   ]
  },
  {
   "cell_type": "code",
   "execution_count": 2,
   "id": "comic-recommendation",
   "metadata": {},
   "outputs": [
    {
     "data": {
      "text/plain": [
       "5"
      ]
     },
     "metadata": {},
     "output_type": "display_data"
    }
   ],
   "source": [
    "numUniques = length . nub\n",
    "numUniques [1,14,5,1,4,3,5,14]"
   ]
  },
  {
   "cell_type": "code",
   "execution_count": 3,
   "id": "original-semester",
   "metadata": {},
   "outputs": [],
   "source": [
    "import qualified Data.Map as Map"
   ]
  },
  {
   "cell_type": "code",
   "execution_count": 4,
   "id": "pressing-neutral",
   "metadata": {},
   "outputs": [
    {
     "data": {
      "text/plain": [
       "[(\"apple\",2),(\"banana\",2),(\"chocolate\",1)]"
      ]
     },
     "metadata": {},
     "output_type": "display_data"
    }
   ],
   "source": [
    "-- count words frequency\n",
    "wordNums :: String -> [(String,Int)]\n",
    "wordNums = map (\\ws -> (head ws, length ws)) . group . sort . words\n",
    "wordNums \"apple banana apple chocolate banana\""
   ]
  },
  {
   "cell_type": "code",
   "execution_count": 5,
   "id": "dynamic-seventh",
   "metadata": {},
   "outputs": [
    {
     "data": {
      "text/plain": [
       "True"
      ]
     },
     "metadata": {},
     "output_type": "display_data"
    },
    {
     "data": {
      "text/plain": [
       "False"
      ]
     },
     "metadata": {},
     "output_type": "display_data"
    }
   ],
   "source": [
    "-- find list needle in list haystack using tails, isPrefixOf, any\n",
    "-- this function is same as Data.List.IsInfixOf\n",
    "isIn :: (Eq a) => [a] -> [a] -> Bool\n",
    "needle `isIn` haystack = any   (isPrefixOf needle) ( tails haystack )\n",
    "[1,3,5] `isIn` [8,9,1,3,5,10]\n",
    "[1,3,5] `isIn` [8,4,9,1,3,9]"
   ]
  },
  {
   "cell_type": "code",
   "execution_count": 6,
   "id": "civic-deadline",
   "metadata": {},
   "outputs": [
    {
     "data": {
      "text/plain": [
       "\"ifmmp!xpsme\""
      ]
     },
     "metadata": {},
     "output_type": "display_data"
    },
    {
     "data": {
      "text/plain": [
       "\"hello world\""
      ]
     },
     "metadata": {},
     "output_type": "display_data"
    }
   ],
   "source": [
    "-- make Ceasar cipher using ord and chr\n",
    "import Data.Char\n",
    "encode :: Int -> String -> String\n",
    "encode offset = map (\\x -> chr $ ord x + offset)\n",
    "encode 1 \"hello world\"\n",
    "decode :: Int -> String -> String\n",
    "decode offset = encode (negate offset)\n",
    "decode 1 ( encode 1 \"hello world\" )"
   ]
  },
  {
   "cell_type": "code",
   "execution_count": 7,
   "id": "unusual-november",
   "metadata": {},
   "outputs": [
    {
     "data": {
      "text/plain": [
       "1000000"
      ]
     },
     "metadata": {},
     "output_type": "display_data"
    }
   ],
   "source": [
    "foldl1' (+) (replicate 1000000 1)"
   ]
  },
  {
   "cell_type": "markdown",
   "id": "indonesian-plaza",
   "metadata": {},
   "source": [
    "## maybe型\n",
    "失敗する可能性があることを表現するのに使う。\n",
    "何も持っていないという値はNothing, 何かを保持している値を作るときはJust xと書く。"
   ]
  },
  {
   "cell_type": "code",
   "execution_count": 8,
   "id": "incredible-passenger",
   "metadata": {},
   "outputs": [
    {
     "data": {
      "text/plain": [
       "Just 49999"
      ]
     },
     "metadata": {},
     "output_type": "display_data"
    }
   ],
   "source": [
    "-- What is the first natural number for which the sum of the numbers in each digits\n",
    "-- 各桁の数の合計が40になる最初の自然数は？\n",
    "-- use digitToInt(change character to int) and find\n",
    "digitSum :: Int -> Int\n",
    "digitSum  = sum . map digitToInt . show\n",
    "firstto :: Int -> Maybe Int\n",
    "firstto n = find (\\x->digitSum x==n) [1..]\n",
    "firstto 40"
   ]
  },
  {
   "cell_type": "code",
   "execution_count": 9,
   "id": "applied-plaintiff",
   "metadata": {},
   "outputs": [
    {
     "data": {
      "text/plain": [
       "Just \"384-384\""
      ]
     },
     "metadata": {},
     "output_type": "display_data"
    },
    {
     "data": {
      "text/plain": [
       "Nothing"
      ]
     },
     "metadata": {},
     "output_type": "display_data"
    }
   ],
   "source": [
    "phoneBook=[(\"betty\",\"559-192\"),(\"bonnie\",\"384-384\"),(\"patay\",\"494-582\")]\n",
    "findKey :: (Eq k) => k -> [(k,v)] -> Maybe v\n",
    "findKey key [] = Nothing\n",
    "findKey key ((k,v):xs)\n",
    "    | key == k = Just v\n",
    "    | otherwise = findKey key xs\n",
    "findKey \"bonnie\" phoneBook\n",
    "findKey \"myname\" phoneBook"
   ]
  },
  {
   "cell_type": "code",
   "execution_count": 10,
   "id": "ceramic-contest",
   "metadata": {},
   "outputs": [
    {
     "data": {
      "text/plain": [
       "Just \"384-384\""
      ]
     },
     "metadata": {},
     "output_type": "display_data"
    },
    {
     "data": {
      "text/plain": [
       "Nothing"
      ]
     },
     "metadata": {},
     "output_type": "display_data"
    }
   ],
   "source": [
    "findKey key = foldr (\\(k,v) acc -> if key == k then Just v else acc) Nothing\n",
    "findKey \"bonnie\" phoneBook\n",
    "findKey \"myname\" phoneBook"
   ]
  },
  {
   "cell_type": "code",
   "execution_count": 11,
   "id": "coordinated-killing",
   "metadata": {},
   "outputs": [],
   "source": [
    "phoneMap = Map.fromList $ (\"betty\",\"duplicate takes last element\") : phoneBook "
   ]
  },
  {
   "cell_type": "code",
   "execution_count": 12,
   "id": "specialized-radar",
   "metadata": {},
   "outputs": [
    {
     "data": {
      "text/plain": [
       "Just \"559-192\""
      ]
     },
     "metadata": {},
     "output_type": "display_data"
    },
    {
     "data": {
      "text/plain": [
       "Nothing"
      ]
     },
     "metadata": {},
     "output_type": "display_data"
    }
   ],
   "source": [
    "Map.lookup \"betty\" phoneMap\n",
    "Map.lookup \"wendy\" phoneMap"
   ]
  },
  {
   "cell_type": "code",
   "execution_count": 13,
   "id": "innocent-prophet",
   "metadata": {},
   "outputs": [
    {
     "data": {
      "text/plain": [
       "Just \"942-392\""
      ]
     },
     "metadata": {},
     "output_type": "display_data"
    }
   ],
   "source": [
    "newphoneMap = Map.insert \"wendy\" \"942-392\" phoneMap\n",
    "Map.lookup \"wendy\" newphoneMap"
   ]
  },
  {
   "cell_type": "code",
   "execution_count": null,
   "id": "marine-laptop",
   "metadata": {},
   "outputs": [],
   "source": []
  }
 ],
 "metadata": {
  "kernelspec": {
   "display_name": "Haskell",
   "language": "haskell",
   "name": "haskell"
  },
  "language_info": {
   "codemirror_mode": "ihaskell",
   "file_extension": ".hs",
   "mimetype": "text/x-haskell",
   "name": "haskell",
   "pygments_lexer": "Haskell",
   "version": "8.10.7"
  }
 },
 "nbformat": 4,
 "nbformat_minor": 5
}
