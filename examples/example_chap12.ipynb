{
 "cells": [
  {
   "cell_type": "markdown",
   "id": "introductory-pepper",
   "metadata": {},
   "source": [
    "## モノイド\n",
    "モノイドとは型クラス。値を二項演算子で結合できるような型を表す。\n",
    "## newtypeキーワード\n",
    "既存の型から新しい型を作る。既存の型をくるんで新しい型に見せる。元の型と同一の内部表現で扱うのでdataより高速に作動する。\n",
    "```\n",
    "newtype ZipList a = ZipList {getZipList :: [a]}\n",
    "```"
   ]
  },
  {
   "cell_type": "code",
   "execution_count": 2,
   "id": "mysterious-viking",
   "metadata": {},
   "outputs": [
    {
     "data": {
      "text/plain": [
       "[2,200,15]"
      ]
     },
     "metadata": {},
     "output_type": "display_data"
    }
   ],
   "source": [
    "import Control.Applicative\n",
    "getZipList $ ZipList [(+1),(*100),(*5)] <*> ZipList [1,2,3]"
   ]
  },
  {
   "cell_type": "code",
   "execution_count": 6,
   "id": "absolute-congo",
   "metadata": {},
   "outputs": [
    {
     "data": {
      "text/plain": [
       "CharList {getCharList = \"this will be shown!\"}"
      ]
     },
     "metadata": {},
     "output_type": "display_data"
    },
    {
     "data": {
      "text/html": [
       "<style>/* Styles used for the Hoogle display in the pager */\n",
       ".hoogle-doc {\n",
       "display: block;\n",
       "padding-bottom: 1.3em;\n",
       "padding-left: 0.4em;\n",
       "}\n",
       ".hoogle-code {\n",
       "display: block;\n",
       "font-family: monospace;\n",
       "white-space: pre;\n",
       "}\n",
       ".hoogle-text {\n",
       "display: block;\n",
       "}\n",
       ".hoogle-name {\n",
       "color: green;\n",
       "font-weight: bold;\n",
       "}\n",
       ".hoogle-head {\n",
       "font-weight: bold;\n",
       "}\n",
       ".hoogle-sub {\n",
       "display: block;\n",
       "margin-left: 0.4em;\n",
       "}\n",
       ".hoogle-package {\n",
       "font-weight: bold;\n",
       "font-style: italic;\n",
       "}\n",
       ".hoogle-module {\n",
       "font-weight: bold;\n",
       "}\n",
       ".hoogle-class {\n",
       "font-weight: bold;\n",
       "}\n",
       ".get-type {\n",
       "color: green;\n",
       "font-weight: bold;\n",
       "font-family: monospace;\n",
       "display: block;\n",
       "white-space: pre-wrap;\n",
       "}\n",
       ".show-type {\n",
       "color: green;\n",
       "font-weight: bold;\n",
       "font-family: monospace;\n",
       "margin-left: 1em;\n",
       "}\n",
       ".mono {\n",
       "font-family: monospace;\n",
       "display: block;\n",
       "}\n",
       ".err-msg {\n",
       "color: red;\n",
       "font-style: italic;\n",
       "font-family: monospace;\n",
       "white-space: pre;\n",
       "display: block;\n",
       "}\n",
       "#unshowable {\n",
       "color: red;\n",
       "font-weight: bold;\n",
       "}\n",
       ".err-msg.in.collapse {\n",
       "padding-top: 0.7em;\n",
       "}\n",
       ".highlight-code {\n",
       "white-space: pre;\n",
       "font-family: monospace;\n",
       "}\n",
       ".suggestion-warning { \n",
       "font-weight: bold;\n",
       "color: rgb(200, 130, 0);\n",
       "}\n",
       ".suggestion-error { \n",
       "font-weight: bold;\n",
       "color: red;\n",
       "}\n",
       ".suggestion-name {\n",
       "font-weight: bold;\n",
       "}\n",
       "</style><span class='get-type'>CharList :: [Char] -> CharList</span>"
      ],
      "text/plain": [
       "CharList :: [Char] -> CharList"
      ]
     },
     "metadata": {},
     "output_type": "display_data"
    }
   ],
   "source": [
    "newtype CharList = CharList {getCharList :: [Char]} deriving(Eq,Show)\n",
    "CharList \"this will be shown!\"\n",
    ":t CharList"
   ]
  },
  {
   "cell_type": "code",
   "execution_count": 7,
   "id": "olympic-heritage",
   "metadata": {},
   "outputs": [
    {
     "data": {
      "text/plain": [
       "(\"nodnol\",3)"
      ]
     },
     "metadata": {},
     "output_type": "display_data"
    }
   ],
   "source": [
    "newtype Pair b a = Pair { getPair :: (a,b)}\n",
    "instance Functor (Pair c) where\n",
    "    fmap f (Pair (x,y)) = Pair (f x,y) --パターンマッチも使える\n",
    "getPair $ fmap reverse (Pair (\"london\",3))"
   ]
  },
  {
   "cell_type": "markdown",
   "id": "generous-national",
   "metadata": {},
   "source": [
    "## 復習\n",
    "- type:型シノニムを作る。既存の型に別名をつける。型シグネチャを読みやすくする目的で使われる。\n",
    "- newtype:既存の型を包んで新しい型を作る。型クラスのインスタンスを作りやすくする目的で使われる。出来上がる型はtypeと違って別物になる。値コンストラクタ・フィールドが一つだけ。\n",
    "- data:自作の新しいデータ型\n",
    "## Monoid型クラス\n",
    "結合的な二項演算子とその演算に関する単位元からなる構造。\n",
    " - 関数は引数を2つとる\n",
    " - 2つの引数及び返り値の型は全て等しい\n",
    " - 2引数関数を施して相手を変えないような特殊な値が存在する(単位元的な)\n",
    " - 結合的(関数を挟む順序を変えても結果が変わらない)\n",
    " ```\n",
    " class Monoid m where\n",
    "     mempty :: m\n",
    "     mappend :: m->m->m --モノイド固有の二項演算\n",
    "     mconcat :: [m] -> m --リストをとって単一の値に　\n",
    "     mconcat = foldr mappend mempty --デフォルト実装\n",
    " ```\n",
    " ProductとSum(Num), AnyとAll(Bool), Orderingなど"
   ]
  },
  {
   "cell_type": "code",
   "execution_count": 10,
   "id": "prostate-berry",
   "metadata": {},
   "outputs": [
    {
     "data": {
      "text/plain": [
       "LT"
      ]
     },
     "metadata": {},
     "output_type": "display_data"
    },
    {
     "data": {
      "text/plain": [
       "GT"
      ]
     },
     "metadata": {},
     "output_type": "display_data"
    }
   ],
   "source": [
    "lengthCompare x y = (length x `compare` length y) `mappend` (x `compare` y)\n",
    "lengthCompare \"zen\" \"ants\"\n",
    "lengthCompare \"zen\" \"ant\""
   ]
  },
  {
   "cell_type": "markdown",
   "id": "restricted-christian",
   "metadata": {},
   "source": [
    "## 畳み込み\n"
   ]
  },
  {
   "cell_type": "code",
   "execution_count": 12,
   "id": "arbitrary-bikini",
   "metadata": {},
   "outputs": [
    {
     "data": {
      "text/plain": [
       "True"
      ]
     },
     "metadata": {},
     "output_type": "display_data"
    }
   ],
   "source": [
    "import qualified Data.Foldable as F\n",
    "F.foldr (||) False (Just True)"
   ]
  },
  {
   "cell_type": "markdown",
   "id": "understood-grade",
   "metadata": {},
   "source": [
    "## foldMap\n",
    "「foldableにしたいコンテナの中身の型の値をとってmonoidを返す関数」を第１引数、構造体を第2引数、モノイドを結果として返す関数。まず第2引数の構造体に第1引数の関数をmapして構造体の中身をごっそりモノイド値にかえ、それらモノイド値をmappendして単一のモノイド値へと結合。"
   ]
  },
  {
   "cell_type": "code",
   "execution_count": null,
   "id": "supported-sullivan",
   "metadata": {},
   "outputs": [],
   "source": []
  }
 ],
 "metadata": {
  "kernelspec": {
   "display_name": "Haskell",
   "language": "haskell",
   "name": "haskell"
  },
  "language_info": {
   "codemirror_mode": "ihaskell",
   "file_extension": ".hs",
   "mimetype": "text/x-haskell",
   "name": "haskell",
   "pygments_lexer": "Haskell",
   "version": "8.10.7"
  }
 },
 "nbformat": 4,
 "nbformat_minor": 5
}
