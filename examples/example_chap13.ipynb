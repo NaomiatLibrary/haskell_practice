{
 "cells": [
  {
   "cell_type": "markdown",
   "id": "bacterial-bearing",
   "metadata": {},
   "source": [
    "# Monad(not Monoid)\n",
    "アプリカティブ値の自然な拡張。アプリカティブ値と、普通の値を取るけどアプリカティブな値を返す関数があった時、前者を後者に食わせることができる。\n",
    "```haskell\n",
    "instance Monad Maybe where\n",
    "    return x = Just x\n",
    "    Nothing >>= f = Nothing --関数適用(Nothingの場合)\n",
    "    Just x >>= f = f x --関数適用\n",
    "    fail _ = Nothing --失敗した時の関数\n",
    "```"
   ]
  },
  {
   "cell_type": "code",
   "execution_count": 1,
   "id": "absolute-contrast",
   "metadata": {},
   "outputs": [
    {
     "data": {
      "text/html": [
       "<style>/* Styles used for the Hoogle display in the pager */\n",
       ".hoogle-doc {\n",
       "display: block;\n",
       "padding-bottom: 1.3em;\n",
       "padding-left: 0.4em;\n",
       "}\n",
       ".hoogle-code {\n",
       "display: block;\n",
       "font-family: monospace;\n",
       "white-space: pre;\n",
       "}\n",
       ".hoogle-text {\n",
       "display: block;\n",
       "}\n",
       ".hoogle-name {\n",
       "color: green;\n",
       "font-weight: bold;\n",
       "}\n",
       ".hoogle-head {\n",
       "font-weight: bold;\n",
       "}\n",
       ".hoogle-sub {\n",
       "display: block;\n",
       "margin-left: 0.4em;\n",
       "}\n",
       ".hoogle-package {\n",
       "font-weight: bold;\n",
       "font-style: italic;\n",
       "}\n",
       ".hoogle-module {\n",
       "font-weight: bold;\n",
       "}\n",
       ".hoogle-class {\n",
       "font-weight: bold;\n",
       "}\n",
       ".get-type {\n",
       "color: green;\n",
       "font-weight: bold;\n",
       "font-family: monospace;\n",
       "display: block;\n",
       "white-space: pre-wrap;\n",
       "}\n",
       ".show-type {\n",
       "color: green;\n",
       "font-weight: bold;\n",
       "font-family: monospace;\n",
       "margin-left: 1em;\n",
       "}\n",
       ".mono {\n",
       "font-family: monospace;\n",
       "display: block;\n",
       "}\n",
       ".err-msg {\n",
       "color: red;\n",
       "font-style: italic;\n",
       "font-family: monospace;\n",
       "white-space: pre;\n",
       "display: block;\n",
       "}\n",
       "#unshowable {\n",
       "color: red;\n",
       "font-weight: bold;\n",
       "}\n",
       ".err-msg.in.collapse {\n",
       "padding-top: 0.7em;\n",
       "}\n",
       ".highlight-code {\n",
       "white-space: pre;\n",
       "font-family: monospace;\n",
       "}\n",
       ".suggestion-warning { \n",
       "font-weight: bold;\n",
       "color: rgb(200, 130, 0);\n",
       "}\n",
       ".suggestion-error { \n",
       "font-weight: bold;\n",
       "color: red;\n",
       "}\n",
       ".suggestion-name {\n",
       "font-weight: bold;\n",
       "}\n",
       "</style><div class=\"suggestion-name\" style=\"clear:both;\">Evaluate</div><div class=\"suggestion-row\" style=\"float: left;\"><div class=\"suggestion-warning\">Found:</div><div class=\"highlight-code\" id=\"haskell\">Nothing >>= \\ x -> return (x * 10)</div></div><div class=\"suggestion-row\" style=\"float: left;\"><div class=\"suggestion-warning\">Why Not:</div><div class=\"highlight-code\" id=\"haskell\">Nothing</div></div>"
      ],
      "text/plain": [
       "Line 2: Evaluate\n",
       "Found:\n",
       "Nothing >>= \\ x -> return (x * 10)\n",
       "Why not:\n",
       "Nothing"
      ]
     },
     "metadata": {},
     "output_type": "display_data"
    },
    {
     "data": {
      "text/plain": [
       "Just 90"
      ]
     },
     "metadata": {},
     "output_type": "display_data"
    },
    {
     "data": {
      "text/plain": [
       "Nothing"
      ]
     },
     "metadata": {},
     "output_type": "display_data"
    }
   ],
   "source": [
    "Just 9 >>= \\x -> return (x*10)\n",
    "Nothing >>= \\x -> return (x*10)"
   ]
  },
  {
   "cell_type": "markdown",
   "id": "sweet-leather",
   "metadata": {},
   "source": [
    "棒の左右にとまった鳥の数の差が3以内であれば、ピエールはバランスを取れるものとしましょう。鳥たちがバランス棒の左右の端に飛んできたり飛び去ったりするようすをシミュレートし、一定数の鳥たちが来たり去ったりした後も、ピエールが綱の上にいるかどうか判定するプログラムを書いてみましょう。"
   ]
  },
  {
   "cell_type": "code",
   "execution_count": 15,
   "id": "improving-plaintiff",
   "metadata": {},
   "outputs": [],
   "source": [
    "type Birds = Int\n",
    "type Pole = (Birds,Birds)\n",
    "landLeft :: Birds -> Pole -> Maybe Pole\n",
    "landLeft n (left,right)\n",
    "    | abs((left+n)-right)<4 = Just (left + n ,right)\n",
    "    | otherwise = Nothing\n",
    "landRight :: Birds -> Pole -> Maybe Pole\n",
    "landRight n (left,right)\n",
    "    | abs(left-(right+n))<4 = Just (left,right+n)\n",
    "    | otherwise = Nothing\n",
    "x -: f = f x"
   ]
  },
  {
   "cell_type": "code",
   "execution_count": 16,
   "id": "capital-collapse",
   "metadata": {},
   "outputs": [
    {
     "data": {
      "text/html": [
       "<style>/* Styles used for the Hoogle display in the pager */\n",
       ".hoogle-doc {\n",
       "display: block;\n",
       "padding-bottom: 1.3em;\n",
       "padding-left: 0.4em;\n",
       "}\n",
       ".hoogle-code {\n",
       "display: block;\n",
       "font-family: monospace;\n",
       "white-space: pre;\n",
       "}\n",
       ".hoogle-text {\n",
       "display: block;\n",
       "}\n",
       ".hoogle-name {\n",
       "color: green;\n",
       "font-weight: bold;\n",
       "}\n",
       ".hoogle-head {\n",
       "font-weight: bold;\n",
       "}\n",
       ".hoogle-sub {\n",
       "display: block;\n",
       "margin-left: 0.4em;\n",
       "}\n",
       ".hoogle-package {\n",
       "font-weight: bold;\n",
       "font-style: italic;\n",
       "}\n",
       ".hoogle-module {\n",
       "font-weight: bold;\n",
       "}\n",
       ".hoogle-class {\n",
       "font-weight: bold;\n",
       "}\n",
       ".get-type {\n",
       "color: green;\n",
       "font-weight: bold;\n",
       "font-family: monospace;\n",
       "display: block;\n",
       "white-space: pre-wrap;\n",
       "}\n",
       ".show-type {\n",
       "color: green;\n",
       "font-weight: bold;\n",
       "font-family: monospace;\n",
       "margin-left: 1em;\n",
       "}\n",
       ".mono {\n",
       "font-family: monospace;\n",
       "display: block;\n",
       "}\n",
       ".err-msg {\n",
       "color: red;\n",
       "font-style: italic;\n",
       "font-family: monospace;\n",
       "white-space: pre;\n",
       "display: block;\n",
       "}\n",
       "#unshowable {\n",
       "color: red;\n",
       "font-weight: bold;\n",
       "}\n",
       ".err-msg.in.collapse {\n",
       "padding-top: 0.7em;\n",
       "}\n",
       ".highlight-code {\n",
       "white-space: pre;\n",
       "font-family: monospace;\n",
       "}\n",
       ".suggestion-warning { \n",
       "font-weight: bold;\n",
       "color: rgb(200, 130, 0);\n",
       "}\n",
       ".suggestion-error { \n",
       "font-weight: bold;\n",
       "color: red;\n",
       "}\n",
       ".suggestion-name {\n",
       "font-weight: bold;\n",
       "}\n",
       "</style><div class=\"suggestion-name\" style=\"clear:both;\">Evaluate</div><div class=\"suggestion-row\" style=\"float: left;\"><div class=\"suggestion-warning\">Found:</div><div class=\"highlight-code\" id=\"haskell\">Nothing >>= landLeft 2</div></div><div class=\"suggestion-row\" style=\"float: left;\"><div class=\"suggestion-warning\">Why Not:</div><div class=\"highlight-code\" id=\"haskell\">Nothing</div></div>"
      ],
      "text/plain": [
       "Line 2: Evaluate\n",
       "Found:\n",
       "Nothing >>= landLeft 2\n",
       "Why not:\n",
       "Nothing"
      ]
     },
     "metadata": {},
     "output_type": "display_data"
    },
    {
     "data": {
      "text/plain": [
       "Just (2,1)"
      ]
     },
     "metadata": {},
     "output_type": "display_data"
    },
    {
     "data": {
      "text/plain": [
       "Nothing"
      ]
     },
     "metadata": {},
     "output_type": "display_data"
    }
   ],
   "source": [
    "landRight 1 (0,0)   >>= landLeft 2\n",
    "Nothing  >>=  landLeft 2"
   ]
  },
  {
   "cell_type": "code",
   "execution_count": 21,
   "id": "hybrid-watch",
   "metadata": {},
   "outputs": [
    {
     "data": {
      "text/html": [
       "<style>/* Styles used for the Hoogle display in the pager */\n",
       ".hoogle-doc {\n",
       "display: block;\n",
       "padding-bottom: 1.3em;\n",
       "padding-left: 0.4em;\n",
       "}\n",
       ".hoogle-code {\n",
       "display: block;\n",
       "font-family: monospace;\n",
       "white-space: pre;\n",
       "}\n",
       ".hoogle-text {\n",
       "display: block;\n",
       "}\n",
       ".hoogle-name {\n",
       "color: green;\n",
       "font-weight: bold;\n",
       "}\n",
       ".hoogle-head {\n",
       "font-weight: bold;\n",
       "}\n",
       ".hoogle-sub {\n",
       "display: block;\n",
       "margin-left: 0.4em;\n",
       "}\n",
       ".hoogle-package {\n",
       "font-weight: bold;\n",
       "font-style: italic;\n",
       "}\n",
       ".hoogle-module {\n",
       "font-weight: bold;\n",
       "}\n",
       ".hoogle-class {\n",
       "font-weight: bold;\n",
       "}\n",
       ".get-type {\n",
       "color: green;\n",
       "font-weight: bold;\n",
       "font-family: monospace;\n",
       "display: block;\n",
       "white-space: pre-wrap;\n",
       "}\n",
       ".show-type {\n",
       "color: green;\n",
       "font-weight: bold;\n",
       "font-family: monospace;\n",
       "margin-left: 1em;\n",
       "}\n",
       ".mono {\n",
       "font-family: monospace;\n",
       "display: block;\n",
       "}\n",
       ".err-msg {\n",
       "color: red;\n",
       "font-style: italic;\n",
       "font-family: monospace;\n",
       "white-space: pre;\n",
       "display: block;\n",
       "}\n",
       "#unshowable {\n",
       "color: red;\n",
       "font-weight: bold;\n",
       "}\n",
       ".err-msg.in.collapse {\n",
       "padding-top: 0.7em;\n",
       "}\n",
       ".highlight-code {\n",
       "white-space: pre;\n",
       "font-family: monospace;\n",
       "}\n",
       ".suggestion-warning { \n",
       "font-weight: bold;\n",
       "color: rgb(200, 130, 0);\n",
       "}\n",
       ".suggestion-error { \n",
       "font-weight: bold;\n",
       "color: red;\n",
       "}\n",
       ".suggestion-name {\n",
       "font-weight: bold;\n",
       "}\n",
       "</style><div class=\"suggestion-name\" style=\"clear:both;\">Monad law, left identity</div><div class=\"suggestion-row\" style=\"float: left;\"><div class=\"suggestion-warning\">Found:</div><div class=\"highlight-code\" id=\"haskell\">return (0, 0) >>= landRight 2</div></div><div class=\"suggestion-row\" style=\"float: left;\"><div class=\"suggestion-warning\">Why Not:</div><div class=\"highlight-code\" id=\"haskell\">landRight 2 (0, 0)</div></div><div class=\"suggestion-name\" style=\"clear:both;\">Monad law, left identity</div><div class=\"suggestion-row\" style=\"float: left;\"><div class=\"suggestion-warning\">Found:</div><div class=\"highlight-code\" id=\"haskell\">return (0, 0) >>= landLeft 1</div></div><div class=\"suggestion-row\" style=\"float: left;\"><div class=\"suggestion-warning\">Why Not:</div><div class=\"highlight-code\" id=\"haskell\">landLeft 1 (0, 0)</div></div><div class=\"suggestion-name\" style=\"clear:both;\">Monad law, left identity</div><div class=\"suggestion-row\" style=\"float: left;\"><div class=\"suggestion-warning\">Found:</div><div class=\"highlight-code\" id=\"haskell\">return (0, 0) >>= landRight 2</div></div><div class=\"suggestion-row\" style=\"float: left;\"><div class=\"suggestion-warning\">Why Not:</div><div class=\"highlight-code\" id=\"haskell\">landRight 2 (0, 0)</div></div>"
      ],
      "text/plain": [
       "Line 1: Monad law, left identity\n",
       "Found:\n",
       "return (0, 0) >>= landRight 2\n",
       "Why not:\n",
       "landRight 2 (0, 0)Line 2: Monad law, left identity\n",
       "Found:\n",
       "return (0, 0) >>= landLeft 1\n",
       "Why not:\n",
       "landLeft 1 (0, 0)Line 3: Monad law, left identity\n",
       "Found:\n",
       "return (0, 0) >>= landRight 2\n",
       "Why not:\n",
       "landRight 2 (0, 0)"
      ]
     },
     "metadata": {},
     "output_type": "display_data"
    },
    {
     "data": {
      "text/plain": [
       "Just (2,4)"
      ]
     },
     "metadata": {},
     "output_type": "display_data"
    },
    {
     "data": {
      "text/plain": [
       "Nothing"
      ]
     },
     "metadata": {},
     "output_type": "display_data"
    },
    {
     "data": {
      "text/plain": [
       "Nothing"
      ]
     },
     "metadata": {},
     "output_type": "display_data"
    }
   ],
   "source": [
    "return (0, 0) >>= landRight 2 >>= landLeft 2 >>= landRight 2\n",
    "return (0, 0) >>= landLeft 1 >>= landRight 4 >>= landLeft (-1) >>= landRight (-2)\n",
    "return (0, 0) >>= landRight 2 >> Nothing >>= landLeft 2"
   ]
  },
  {
   "cell_type": "markdown",
   "id": "pediatric-republican",
   "metadata": {},
   "source": [
    "## do記法\n",
    "モナドの結果（例えばJust 3なら3、NothingならNothingを返す）を変数に束縛するには`<-`を使う"
   ]
  },
  {
   "cell_type": "code",
   "execution_count": 27,
   "id": "manufactured-essence",
   "metadata": {},
   "outputs": [
    {
     "data": {
      "text/plain": [
       "Just \"3!\""
      ]
     },
     "metadata": {},
     "output_type": "display_data"
    },
    {
     "data": {
      "text/plain": [
       "Nothing"
      ]
     },
     "metadata": {},
     "output_type": "display_data"
    }
   ],
   "source": [
    "foo :: Maybe String\n",
    "foo = do\n",
    "   x<- Just 3\n",
    "   y<- Just \"!\"\n",
    "   Just (show x ++ y)\n",
    "foo\n",
    "bar :: Maybe String\n",
    "bar= do\n",
    "   x <- Just 3\n",
    "   y<- Just \"!\"\n",
    "   Nothing\n",
    "   Just (show x ++ y)\n",
    "bar"
   ]
  },
  {
   "cell_type": "markdown",
   "id": "marine-language",
   "metadata": {},
   "source": [
    "### do記法の中のfail\n",
    "do記法の中でパターンマッチに失敗するとfailが呼ばれる。Maybeの時はNothing。"
   ]
  },
  {
   "cell_type": "code",
   "execution_count": 28,
   "id": "parliamentary-cholesterol",
   "metadata": {},
   "outputs": [
    {
     "data": {
      "text/plain": [
       "Nothing"
      ]
     },
     "metadata": {},
     "output_type": "display_data"
    }
   ],
   "source": [
    "wopwop :: Maybe Char\n",
    "wopwop = do\n",
    "    (x:xs) <- Just \"\"\n",
    "    return x\n",
    "wopwop"
   ]
  },
  {
   "cell_type": "markdown",
   "id": "western-homeless",
   "metadata": {},
   "source": [
    "## リストのモナド\n",
    "```\n",
    "instance Monad [] where\n",
    "    return x = [x]\n",
    "    xs >>= f = concat (map f xs)\n",
    "    fail _ = []\n",
    "```"
   ]
  },
  {
   "cell_type": "code",
   "execution_count": 32,
   "id": "higher-wesley",
   "metadata": {},
   "outputs": [
    {
     "data": {
      "text/html": [
       "<style>/* Styles used for the Hoogle display in the pager */\n",
       ".hoogle-doc {\n",
       "display: block;\n",
       "padding-bottom: 1.3em;\n",
       "padding-left: 0.4em;\n",
       "}\n",
       ".hoogle-code {\n",
       "display: block;\n",
       "font-family: monospace;\n",
       "white-space: pre;\n",
       "}\n",
       ".hoogle-text {\n",
       "display: block;\n",
       "}\n",
       ".hoogle-name {\n",
       "color: green;\n",
       "font-weight: bold;\n",
       "}\n",
       ".hoogle-head {\n",
       "font-weight: bold;\n",
       "}\n",
       ".hoogle-sub {\n",
       "display: block;\n",
       "margin-left: 0.4em;\n",
       "}\n",
       ".hoogle-package {\n",
       "font-weight: bold;\n",
       "font-style: italic;\n",
       "}\n",
       ".hoogle-module {\n",
       "font-weight: bold;\n",
       "}\n",
       ".hoogle-class {\n",
       "font-weight: bold;\n",
       "}\n",
       ".get-type {\n",
       "color: green;\n",
       "font-weight: bold;\n",
       "font-family: monospace;\n",
       "display: block;\n",
       "white-space: pre-wrap;\n",
       "}\n",
       ".show-type {\n",
       "color: green;\n",
       "font-weight: bold;\n",
       "font-family: monospace;\n",
       "margin-left: 1em;\n",
       "}\n",
       ".mono {\n",
       "font-family: monospace;\n",
       "display: block;\n",
       "}\n",
       ".err-msg {\n",
       "color: red;\n",
       "font-style: italic;\n",
       "font-family: monospace;\n",
       "white-space: pre;\n",
       "display: block;\n",
       "}\n",
       "#unshowable {\n",
       "color: red;\n",
       "font-weight: bold;\n",
       "}\n",
       ".err-msg.in.collapse {\n",
       "padding-top: 0.7em;\n",
       "}\n",
       ".highlight-code {\n",
       "white-space: pre;\n",
       "font-family: monospace;\n",
       "}\n",
       ".suggestion-warning { \n",
       "font-weight: bold;\n",
       "color: rgb(200, 130, 0);\n",
       "}\n",
       ".suggestion-error { \n",
       "font-weight: bold;\n",
       "color: red;\n",
       "}\n",
       ".suggestion-name {\n",
       "font-weight: bold;\n",
       "}\n",
       "</style><div class=\"suggestion-name\" style=\"clear:both;\">Use const</div><div class=\"suggestion-row\" style=\"float: left;\"><div class=\"suggestion-warning\">Found:</div><div class=\"highlight-code\" id=\"haskell\">\\ x -> []</div></div><div class=\"suggestion-row\" style=\"float: left;\"><div class=\"suggestion-warning\">Why Not:</div><div class=\"highlight-code\" id=\"haskell\">const []</div></div>"
      ],
      "text/plain": [
       "Line 2: Use const\n",
       "Found:\n",
       "\\ x -> []\n",
       "Why not:\n",
       "const []"
      ]
     },
     "metadata": {},
     "output_type": "display_data"
    },
    {
     "data": {
      "text/plain": [
       "[3,-3,4,-4,5,-5]"
      ]
     },
     "metadata": {},
     "output_type": "display_data"
    },
    {
     "data": {
      "text/plain": [
       "[]"
      ]
     },
     "metadata": {},
     "output_type": "display_data"
    },
    {
     "data": {
      "text/plain": [
       "[(1,'a'),(1,'b'),(2,'a'),(2,'b')]"
      ]
     },
     "metadata": {},
     "output_type": "display_data"
    }
   ],
   "source": [
    "[3,4,5] >>= \\x -> [x,-x]\n",
    "[3,4,5] >>= \\x -> []\n",
    "[1,2] >>= \\n -> ['a','b'] >>= \\ch -> return (n,ch)"
   ]
  },
  {
   "cell_type": "markdown",
   "id": "particular-victoria",
   "metadata": {},
   "source": [
    "## guard\n",
    "guardは引数がFalseなら失敗を投げ、Trueならダミーの値が入っている成功を作る"
   ]
  },
  {
   "cell_type": "code",
   "execution_count": 38,
   "id": "local-racing",
   "metadata": {},
   "outputs": [
    {
     "data": {
      "text/plain": [
       "[7,17,27,37,47]"
      ]
     },
     "metadata": {},
     "output_type": "display_data"
    }
   ],
   "source": [
    "import Control.Applicative\n",
    "import Control.Monad\n",
    "[1..50] >>= (\\x -> guard ('7'  `elem` show x) >> return x)"
   ]
  },
  {
   "cell_type": "markdown",
   "id": "clinical-monitor",
   "metadata": {},
   "source": [
    "チェス盤の上にナイトの駒が一つだけ乗っていて、ナイトを3回動かして特定のマスまで移動させられるかを調べる"
   ]
  },
  {
   "cell_type": "code",
   "execution_count": 46,
   "id": "proved-performance",
   "metadata": {},
   "outputs": [
    {
     "data": {
      "text/html": [
       "<style>/* Styles used for the Hoogle display in the pager */\n",
       ".hoogle-doc {\n",
       "display: block;\n",
       "padding-bottom: 1.3em;\n",
       "padding-left: 0.4em;\n",
       "}\n",
       ".hoogle-code {\n",
       "display: block;\n",
       "font-family: monospace;\n",
       "white-space: pre;\n",
       "}\n",
       ".hoogle-text {\n",
       "display: block;\n",
       "}\n",
       ".hoogle-name {\n",
       "color: green;\n",
       "font-weight: bold;\n",
       "}\n",
       ".hoogle-head {\n",
       "font-weight: bold;\n",
       "}\n",
       ".hoogle-sub {\n",
       "display: block;\n",
       "margin-left: 0.4em;\n",
       "}\n",
       ".hoogle-package {\n",
       "font-weight: bold;\n",
       "font-style: italic;\n",
       "}\n",
       ".hoogle-module {\n",
       "font-weight: bold;\n",
       "}\n",
       ".hoogle-class {\n",
       "font-weight: bold;\n",
       "}\n",
       ".get-type {\n",
       "color: green;\n",
       "font-weight: bold;\n",
       "font-family: monospace;\n",
       "display: block;\n",
       "white-space: pre-wrap;\n",
       "}\n",
       ".show-type {\n",
       "color: green;\n",
       "font-weight: bold;\n",
       "font-family: monospace;\n",
       "margin-left: 1em;\n",
       "}\n",
       ".mono {\n",
       "font-family: monospace;\n",
       "display: block;\n",
       "}\n",
       ".err-msg {\n",
       "color: red;\n",
       "font-style: italic;\n",
       "font-family: monospace;\n",
       "white-space: pre;\n",
       "display: block;\n",
       "}\n",
       "#unshowable {\n",
       "color: red;\n",
       "font-weight: bold;\n",
       "}\n",
       ".err-msg.in.collapse {\n",
       "padding-top: 0.7em;\n",
       "}\n",
       ".highlight-code {\n",
       "white-space: pre;\n",
       "font-family: monospace;\n",
       "}\n",
       ".suggestion-warning { \n",
       "font-weight: bold;\n",
       "color: rgb(200, 130, 0);\n",
       "}\n",
       ".suggestion-error { \n",
       "font-weight: bold;\n",
       "color: red;\n",
       "}\n",
       ".suggestion-name {\n",
       "font-weight: bold;\n",
       "}\n",
       "</style><div class=\"suggestion-name\" style=\"clear:both;\">Monad law, left identity</div><div class=\"suggestion-row\" style=\"float: left;\"><div class=\"suggestion-warning\">Found:</div><div class=\"highlight-code\" id=\"haskell\">return start >>= moveKnight</div></div><div class=\"suggestion-row\" style=\"float: left;\"><div class=\"suggestion-warning\">Why Not:</div><div class=\"highlight-code\" id=\"haskell\">moveKnight start</div></div>"
      ],
      "text/plain": [
       "Line 8: Monad law, left identity\n",
       "Found:\n",
       "return start >>= moveKnight\n",
       "Why not:\n",
       "moveKnight start"
      ]
     },
     "metadata": {},
     "output_type": "display_data"
    }
   ],
   "source": [
    "type KnightPos = (Int,Int)\n",
    "moveKnight :: KnightPos -> [KnightPos]\n",
    "moveKnight (c,r) = do\n",
    "    (c', r') <- [(c+2,r-1),(c+2,r+1),(c-2,r-1),(c-2,r+1),(c+1,r-2),(c+1,r+2),(c-1,r-2),(c-1,r+2)]\n",
    "    guard (c' `elem` [1..8] && r' `elem` [1..8])\n",
    "    return (c', r')\n",
    "in3 :: KnightPos -> [KnightPos]\n",
    "in3 start = return start >>= moveKnight >>= moveKnight >>= moveKnight\n",
    "canReachIn3 start end = end `elem` in3 start"
   ]
  },
  {
   "cell_type": "code",
   "execution_count": 48,
   "id": "welcome-spencer",
   "metadata": {},
   "outputs": [
    {
     "data": {
      "text/plain": [
       "True"
      ]
     },
     "metadata": {},
     "output_type": "display_data"
    },
    {
     "data": {
      "text/plain": [
       "False"
      ]
     },
     "metadata": {},
     "output_type": "display_data"
    }
   ],
   "source": [
    "(6,2) `canReachIn3 ` (6,1)\n",
    "(6,2) `canReachIn3 ` (7,3)"
   ]
  },
  {
   "cell_type": "markdown",
   "id": "stock-florist",
   "metadata": {},
   "source": [
    "演習:経路を教えてくれるように改造する。\n",
    "## モナド則\n",
    "- 左恒等性:`return x >>= f = f x`\n",
    "- 右恒等性:`m >>= return = m`\n",
    "- 結合法則 :`(m>>=f)>>=g`と`m >>= (\\x -> f x >>= g)`"
   ]
  },
  {
   "cell_type": "code",
   "execution_count": null,
   "id": "ready-affair",
   "metadata": {},
   "outputs": [],
   "source": []
  }
 ],
 "metadata": {
  "kernelspec": {
   "display_name": "Haskell",
   "language": "haskell",
   "name": "haskell"
  },
  "language_info": {
   "codemirror_mode": "ihaskell",
   "file_extension": ".hs",
   "mimetype": "text/x-haskell",
   "name": "haskell",
   "pygments_lexer": "Haskell",
   "version": "8.10.7"
  }
 },
 "nbformat": 4,
 "nbformat_minor": 5
}
