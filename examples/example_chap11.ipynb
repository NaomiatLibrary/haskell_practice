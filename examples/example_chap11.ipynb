{
 "cells": [
  {
   "cell_type": "markdown",
   "id": "foreign-waters",
   "metadata": {},
   "source": [
    "# ファンクターからアプリカティブファンクターへ\n",
    "## ファンクターとは\n",
    "関数で写せるもののこと。リスト,Maybe,木,I/Oアクション(結果を関数で写せば良い)など。メソッドはfmapのみ。Functorのインスタンスになるには、型コンストラクタの種類(kind)は`*->*`でないといけない、つまり、型変数として具体型をただ1つ持つ必要がある。"
   ]
  },
  {
   "cell_type": "code",
   "execution_count": 11,
   "id": "southwest-construction",
   "metadata": {
    "scrolled": true
   },
   "outputs": [],
   "source": [
    "import Data.Char\n",
    "import　Data.List\n",
    "main = do \n",
    "    line <- fmap (intersperse '-' . reverse . map toUpper) getLine\n",
    "    putStrLn line"
   ]
  },
  {
   "cell_type": "markdown",
   "id": "optional-boating",
   "metadata": {},
   "source": [
    "## Functorとしての関数\n",
    "関数の型を表す`->`は中置型になっているが、2つの型引数を取る型コンストラクタでもある。fmapは関数合成を意味する。\n",
    "```\n",
    "fmap :: (a -> b) -> (r -> a) -> (r -> b)\n",
    "```"
   ]
  },
  {
   "cell_type": "code",
   "execution_count": 15,
   "id": "cutting-custom",
   "metadata": {},
   "outputs": [
    {
     "data": {
      "text/html": [
       "<style>/* Styles used for the Hoogle display in the pager */\n",
       ".hoogle-doc {\n",
       "display: block;\n",
       "padding-bottom: 1.3em;\n",
       "padding-left: 0.4em;\n",
       "}\n",
       ".hoogle-code {\n",
       "display: block;\n",
       "font-family: monospace;\n",
       "white-space: pre;\n",
       "}\n",
       ".hoogle-text {\n",
       "display: block;\n",
       "}\n",
       ".hoogle-name {\n",
       "color: green;\n",
       "font-weight: bold;\n",
       "}\n",
       ".hoogle-head {\n",
       "font-weight: bold;\n",
       "}\n",
       ".hoogle-sub {\n",
       "display: block;\n",
       "margin-left: 0.4em;\n",
       "}\n",
       ".hoogle-package {\n",
       "font-weight: bold;\n",
       "font-style: italic;\n",
       "}\n",
       ".hoogle-module {\n",
       "font-weight: bold;\n",
       "}\n",
       ".hoogle-class {\n",
       "font-weight: bold;\n",
       "}\n",
       ".get-type {\n",
       "color: green;\n",
       "font-weight: bold;\n",
       "font-family: monospace;\n",
       "display: block;\n",
       "white-space: pre-wrap;\n",
       "}\n",
       ".show-type {\n",
       "color: green;\n",
       "font-weight: bold;\n",
       "font-family: monospace;\n",
       "margin-left: 1em;\n",
       "}\n",
       ".mono {\n",
       "font-family: monospace;\n",
       "display: block;\n",
       "}\n",
       ".err-msg {\n",
       "color: red;\n",
       "font-style: italic;\n",
       "font-family: monospace;\n",
       "white-space: pre;\n",
       "display: block;\n",
       "}\n",
       "#unshowable {\n",
       "color: red;\n",
       "font-weight: bold;\n",
       "}\n",
       ".err-msg.in.collapse {\n",
       "padding-top: 0.7em;\n",
       "}\n",
       ".highlight-code {\n",
       "white-space: pre;\n",
       "font-family: monospace;\n",
       "}\n",
       ".suggestion-warning { \n",
       "font-weight: bold;\n",
       "color: rgb(200, 130, 0);\n",
       "}\n",
       ".suggestion-error { \n",
       "font-weight: bold;\n",
       "color: red;\n",
       "}\n",
       ".suggestion-name {\n",
       "font-weight: bold;\n",
       "}\n",
       "</style><span class='get-type'>fmap (*3) (+100) :: forall b. Num b => b -> b</span>"
      ],
      "text/plain": [
       "fmap (*3) (+100) :: forall b. Num b => b -> b"
      ]
     },
     "metadata": {},
     "output_type": "display_data"
    },
    {
     "data": {
      "text/html": [
       "<style>/* Styles used for the Hoogle display in the pager */\n",
       ".hoogle-doc {\n",
       "display: block;\n",
       "padding-bottom: 1.3em;\n",
       "padding-left: 0.4em;\n",
       "}\n",
       ".hoogle-code {\n",
       "display: block;\n",
       "font-family: monospace;\n",
       "white-space: pre;\n",
       "}\n",
       ".hoogle-text {\n",
       "display: block;\n",
       "}\n",
       ".hoogle-name {\n",
       "color: green;\n",
       "font-weight: bold;\n",
       "}\n",
       ".hoogle-head {\n",
       "font-weight: bold;\n",
       "}\n",
       ".hoogle-sub {\n",
       "display: block;\n",
       "margin-left: 0.4em;\n",
       "}\n",
       ".hoogle-package {\n",
       "font-weight: bold;\n",
       "font-style: italic;\n",
       "}\n",
       ".hoogle-module {\n",
       "font-weight: bold;\n",
       "}\n",
       ".hoogle-class {\n",
       "font-weight: bold;\n",
       "}\n",
       ".get-type {\n",
       "color: green;\n",
       "font-weight: bold;\n",
       "font-family: monospace;\n",
       "display: block;\n",
       "white-space: pre-wrap;\n",
       "}\n",
       ".show-type {\n",
       "color: green;\n",
       "font-weight: bold;\n",
       "font-family: monospace;\n",
       "margin-left: 1em;\n",
       "}\n",
       ".mono {\n",
       "font-family: monospace;\n",
       "display: block;\n",
       "}\n",
       ".err-msg {\n",
       "color: red;\n",
       "font-style: italic;\n",
       "font-family: monospace;\n",
       "white-space: pre;\n",
       "display: block;\n",
       "}\n",
       "#unshowable {\n",
       "color: red;\n",
       "font-weight: bold;\n",
       "}\n",
       ".err-msg.in.collapse {\n",
       "padding-top: 0.7em;\n",
       "}\n",
       ".highlight-code {\n",
       "white-space: pre;\n",
       "font-family: monospace;\n",
       "}\n",
       ".suggestion-warning { \n",
       "font-weight: bold;\n",
       "color: rgb(200, 130, 0);\n",
       "}\n",
       ".suggestion-error { \n",
       "font-weight: bold;\n",
       "color: red;\n",
       "}\n",
       ".suggestion-name {\n",
       "font-weight: bold;\n",
       "}\n",
       "</style><span class='get-type'>fmap (*2) :: forall (f :: * -> *) b. (Functor f, Num b) => f b -> f b</span>"
      ],
      "text/plain": [
       "fmap (*2) :: forall (f :: * -> *) b. (Functor f, Num b) => f b -> f b"
      ]
     },
     "metadata": {},
     "output_type": "display_data"
    },
    {
     "data": {
      "text/html": [
       "<style>/* Styles used for the Hoogle display in the pager */\n",
       ".hoogle-doc {\n",
       "display: block;\n",
       "padding-bottom: 1.3em;\n",
       "padding-left: 0.4em;\n",
       "}\n",
       ".hoogle-code {\n",
       "display: block;\n",
       "font-family: monospace;\n",
       "white-space: pre;\n",
       "}\n",
       ".hoogle-text {\n",
       "display: block;\n",
       "}\n",
       ".hoogle-name {\n",
       "color: green;\n",
       "font-weight: bold;\n",
       "}\n",
       ".hoogle-head {\n",
       "font-weight: bold;\n",
       "}\n",
       ".hoogle-sub {\n",
       "display: block;\n",
       "margin-left: 0.4em;\n",
       "}\n",
       ".hoogle-package {\n",
       "font-weight: bold;\n",
       "font-style: italic;\n",
       "}\n",
       ".hoogle-module {\n",
       "font-weight: bold;\n",
       "}\n",
       ".hoogle-class {\n",
       "font-weight: bold;\n",
       "}\n",
       ".get-type {\n",
       "color: green;\n",
       "font-weight: bold;\n",
       "font-family: monospace;\n",
       "display: block;\n",
       "white-space: pre-wrap;\n",
       "}\n",
       ".show-type {\n",
       "color: green;\n",
       "font-weight: bold;\n",
       "font-family: monospace;\n",
       "margin-left: 1em;\n",
       "}\n",
       ".mono {\n",
       "font-family: monospace;\n",
       "display: block;\n",
       "}\n",
       ".err-msg {\n",
       "color: red;\n",
       "font-style: italic;\n",
       "font-family: monospace;\n",
       "white-space: pre;\n",
       "display: block;\n",
       "}\n",
       "#unshowable {\n",
       "color: red;\n",
       "font-weight: bold;\n",
       "}\n",
       ".err-msg.in.collapse {\n",
       "padding-top: 0.7em;\n",
       "}\n",
       ".highlight-code {\n",
       "white-space: pre;\n",
       "font-family: monospace;\n",
       "}\n",
       ".suggestion-warning { \n",
       "font-weight: bold;\n",
       "color: rgb(200, 130, 0);\n",
       "}\n",
       ".suggestion-error { \n",
       "font-weight: bold;\n",
       "color: red;\n",
       "}\n",
       ".suggestion-name {\n",
       "font-weight: bold;\n",
       "}\n",
       "</style><span class='get-type'>fmap (replicate 3) :: forall (f :: * -> *) a. Functor f => f a -> f [a]</span>"
      ],
      "text/plain": [
       "fmap (replicate 3) :: forall (f :: * -> *) a. Functor f => f a -> f [a]"
      ]
     },
     "metadata": {},
     "output_type": "display_data"
    }
   ],
   "source": [
    ":m + Control.Monad.Instances\n",
    ":t fmap (*3) (+100)\n",
    ":t fmap (*2)\n",
    ":t fmap (replicate 3)"
   ]
  },
  {
   "cell_type": "markdown",
   "id": "voluntary-nelson",
   "metadata": {},
   "source": [
    "## Fmapの二つの考え方\n",
    "- 関数とファンクター値をとって、その関数でファンクター値を移して返すもの\n",
    "- 値から値への関数をとって、それをファンクター値からファンクター値への関数に持ち上げたものを返す関数"
   ]
  },
  {
   "cell_type": "code",
   "execution_count": 20,
   "id": "continuous-garlic",
   "metadata": {},
   "outputs": [
    {
     "data": {
      "text/plain": [
       "[[1,1,1],[2,2,2],[3,3,3],[4,4,4]]"
      ]
     },
     "metadata": {},
     "output_type": "display_data"
    },
    {
     "data": {
      "text/plain": [
       "Just [4,4,4]"
      ]
     },
     "metadata": {},
     "output_type": "display_data"
    },
    {
     "data": {
      "text/plain": [
       "Right [\"foo\",\"foo\",\"foo\"]"
      ]
     },
     "metadata": {},
     "output_type": "display_data"
    },
    {
     "data": {
      "text/plain": [
       "Nothing"
      ]
     },
     "metadata": {},
     "output_type": "display_data"
    },
    {
     "data": {
      "text/plain": [
       "Left \"bar\""
      ]
     },
     "metadata": {},
     "output_type": "display_data"
    }
   ],
   "source": [
    "fmap (replicate 3) [1,2,3,4]\n",
    "fmap (replicate 3) (Just 4)\n",
    "fmap (replicate 3) (Right \"foo\")\n",
    "fmap (replicate 3) Nothing\n",
    "fmap (replicate 3) (Left \"bar\")"
   ]
  },
  {
   "cell_type": "markdown",
   "id": "informal-surname",
   "metadata": {},
   "source": [
    "## Fanctor則\n",
    "- idでファンクター値を移した場合、ファンクター値が変化してはいけない(fmap id = id)\n",
    "- 関数合成の法則:fmap (f.g) = fmap f. fmap g\n",
    "この二つを満たしているとよい。\n",
    "\n",
    "## Applicative(ファンクター)\n",
    "ファンクターでは通常の関数でファンクターの中の値を写すことができるが、ファンクターの中の関数で別のファンクターの中の値を写すことをしたい。\n",
    "\n",
    "関数は以下の2つ。（型コンストラクタをApplicativeに属するにはまずFuncterに属させる必要があるので、fmapもできる。）\n",
    "- pure：値をとって、内部にその値を含むapplicative値に包む。\n",
    "- `<*>`:関数の入っているファンクター値と値の入っているファンクター値を引数にとって、適用。左結合の関数。"
   ]
  },
  {
   "cell_type": "code",
   "execution_count": 27,
   "id": "thousand-ceramic",
   "metadata": {},
   "outputs": [
    {
     "data": {
      "text/html": [
       "<style>/* Styles used for the Hoogle display in the pager */\n",
       ".hoogle-doc {\n",
       "display: block;\n",
       "padding-bottom: 1.3em;\n",
       "padding-left: 0.4em;\n",
       "}\n",
       ".hoogle-code {\n",
       "display: block;\n",
       "font-family: monospace;\n",
       "white-space: pre;\n",
       "}\n",
       ".hoogle-text {\n",
       "display: block;\n",
       "}\n",
       ".hoogle-name {\n",
       "color: green;\n",
       "font-weight: bold;\n",
       "}\n",
       ".hoogle-head {\n",
       "font-weight: bold;\n",
       "}\n",
       ".hoogle-sub {\n",
       "display: block;\n",
       "margin-left: 0.4em;\n",
       "}\n",
       ".hoogle-package {\n",
       "font-weight: bold;\n",
       "font-style: italic;\n",
       "}\n",
       ".hoogle-module {\n",
       "font-weight: bold;\n",
       "}\n",
       ".hoogle-class {\n",
       "font-weight: bold;\n",
       "}\n",
       ".get-type {\n",
       "color: green;\n",
       "font-weight: bold;\n",
       "font-family: monospace;\n",
       "display: block;\n",
       "white-space: pre-wrap;\n",
       "}\n",
       ".show-type {\n",
       "color: green;\n",
       "font-weight: bold;\n",
       "font-family: monospace;\n",
       "margin-left: 1em;\n",
       "}\n",
       ".mono {\n",
       "font-family: monospace;\n",
       "display: block;\n",
       "}\n",
       ".err-msg {\n",
       "color: red;\n",
       "font-style: italic;\n",
       "font-family: monospace;\n",
       "white-space: pre;\n",
       "display: block;\n",
       "}\n",
       "#unshowable {\n",
       "color: red;\n",
       "font-weight: bold;\n",
       "}\n",
       ".err-msg.in.collapse {\n",
       "padding-top: 0.7em;\n",
       "}\n",
       ".highlight-code {\n",
       "white-space: pre;\n",
       "font-family: monospace;\n",
       "}\n",
       ".suggestion-warning { \n",
       "font-weight: bold;\n",
       "color: rgb(200, 130, 0);\n",
       "}\n",
       ".suggestion-error { \n",
       "font-weight: bold;\n",
       "color: red;\n",
       "}\n",
       ".suggestion-name {\n",
       "font-weight: bold;\n",
       "}\n",
       "</style><div class=\"suggestion-name\" style=\"clear:both;\">Use <$></div><div class=\"suggestion-row\" style=\"float: left;\"><div class=\"suggestion-warning\">Found:</div><div class=\"highlight-code\" id=\"haskell\">pure (+ 3) <*> Just 10</div></div><div class=\"suggestion-row\" style=\"float: left;\"><div class=\"suggestion-warning\">Why Not:</div><div class=\"highlight-code\" id=\"haskell\">(+ 3) <$> Just 10</div></div>"
      ],
      "text/plain": [
       "Line 2: Use <$>\n",
       "Found:\n",
       "pure (+ 3) <*> Just 10\n",
       "Why not:\n",
       "(+ 3) <$> Just 10"
      ]
     },
     "metadata": {},
     "output_type": "display_data"
    },
    {
     "data": {
      "text/plain": [
       "Just 12"
      ]
     },
     "metadata": {},
     "output_type": "display_data"
    },
    {
     "data": {
      "text/plain": [
       "Just 13"
      ]
     },
     "metadata": {},
     "output_type": "display_data"
    },
    {
     "data": {
      "text/plain": [
       "Just 13"
      ]
     },
     "metadata": {},
     "output_type": "display_data"
    },
    {
     "data": {
      "text/plain": [
       "Nothing"
      ]
     },
     "metadata": {},
     "output_type": "display_data"
    },
    {
     "data": {
      "text/plain": [
       "Just 8"
      ]
     },
     "metadata": {},
     "output_type": "display_data"
    }
   ],
   "source": [
    "Just (+3) <*> Just 9\n",
    "pure (+3) <*> Just 10\n",
    "(+3) <$> Just 10 -- f <$> x= fmap f x = pure f <*> x\n",
    "Nothing <*> Just 11\n",
    "Just (+) <*> Just 3 <*> Just 5"
   ]
  },
  {
   "cell_type": "code",
   "execution_count": 28,
   "id": "generic-editing",
   "metadata": {},
   "outputs": [
    {
     "data": {
      "text/plain": [
       "[0,0,0,101,102,103,1,4,9]"
      ]
     },
     "metadata": {},
     "output_type": "display_data"
    }
   ],
   "source": [
    "[(*0),(+100),(^2)] <*> [1,2,3]"
   ]
  },
  {
   "cell_type": "code",
   "execution_count": 29,
   "id": "uniform-november",
   "metadata": {},
   "outputs": [
    {
     "data": {
      "text/plain": [
       "[16,20,22,40,50,55,80,100,110]"
      ]
     },
     "metadata": {},
     "output_type": "display_data"
    }
   ],
   "source": [
    "(*) <$> [2,5,10] <*> [8,10,11]"
   ]
  },
  {
   "cell_type": "markdown",
   "id": "differential-actor",
   "metadata": {},
   "source": [
    "applicativeなものにはMaybe,List,IO,関数(->)などがある。\n",
    "\n",
    "I/O"
   ]
  },
  {
   "cell_type": "code",
   "execution_count": 33,
   "id": "latter-hawaii",
   "metadata": {},
   "outputs": [],
   "source": [
    "myAction :: IO String\n",
    "myAction = (++) <$> getLine <*> getLine"
   ]
  },
  {
   "cell_type": "markdown",
   "id": "acoustic-rover",
   "metadata": {},
   "source": [
    "関数`->`\n",
    "```\n",
    "instance Applicative ((->) r) where\n",
    "    pure x = (_ -> x)\n",
    "    f <*> g = \\x -> f x (g x)\n",
    "```\n",
    "以下のコードではまず引数を`+3`と`*100`にわたし、その結果をたす。"
   ]
  },
  {
   "cell_type": "code",
   "execution_count": 34,
   "id": "wicked-shore",
   "metadata": {},
   "outputs": [
    {
     "data": {
      "text/plain": [
       "508"
      ]
     },
     "metadata": {},
     "output_type": "display_data"
    },
    {
     "data": {
      "text/plain": [
       "[8.0,10.0,2.5]"
      ]
     },
     "metadata": {},
     "output_type": "display_data"
    }
   ],
   "source": [
    "(+) <$> (+3) <*> (*100) $ 5\n",
    "(\\x y z -> [x,y,z]) <$> (+3) <*> (*2) <*> (/2) $ 5"
   ]
  },
  {
   "cell_type": "code",
   "execution_count": 37,
   "id": "polish-premises",
   "metadata": {},
   "outputs": [
    {
     "data": {
      "text/html": [
       "<style>/* Styles used for the Hoogle display in the pager */\n",
       ".hoogle-doc {\n",
       "display: block;\n",
       "padding-bottom: 1.3em;\n",
       "padding-left: 0.4em;\n",
       "}\n",
       ".hoogle-code {\n",
       "display: block;\n",
       "font-family: monospace;\n",
       "white-space: pre;\n",
       "}\n",
       ".hoogle-text {\n",
       "display: block;\n",
       "}\n",
       ".hoogle-name {\n",
       "color: green;\n",
       "font-weight: bold;\n",
       "}\n",
       ".hoogle-head {\n",
       "font-weight: bold;\n",
       "}\n",
       ".hoogle-sub {\n",
       "display: block;\n",
       "margin-left: 0.4em;\n",
       "}\n",
       ".hoogle-package {\n",
       "font-weight: bold;\n",
       "font-style: italic;\n",
       "}\n",
       ".hoogle-module {\n",
       "font-weight: bold;\n",
       "}\n",
       ".hoogle-class {\n",
       "font-weight: bold;\n",
       "}\n",
       ".get-type {\n",
       "color: green;\n",
       "font-weight: bold;\n",
       "font-family: monospace;\n",
       "display: block;\n",
       "white-space: pre-wrap;\n",
       "}\n",
       ".show-type {\n",
       "color: green;\n",
       "font-weight: bold;\n",
       "font-family: monospace;\n",
       "margin-left: 1em;\n",
       "}\n",
       ".mono {\n",
       "font-family: monospace;\n",
       "display: block;\n",
       "}\n",
       ".err-msg {\n",
       "color: red;\n",
       "font-style: italic;\n",
       "font-family: monospace;\n",
       "white-space: pre;\n",
       "display: block;\n",
       "}\n",
       "#unshowable {\n",
       "color: red;\n",
       "font-weight: bold;\n",
       "}\n",
       ".err-msg.in.collapse {\n",
       "padding-top: 0.7em;\n",
       "}\n",
       ".highlight-code {\n",
       "white-space: pre;\n",
       "font-family: monospace;\n",
       "}\n",
       ".suggestion-warning { \n",
       "font-weight: bold;\n",
       "color: rgb(200, 130, 0);\n",
       "}\n",
       ".suggestion-error { \n",
       "font-weight: bold;\n",
       "color: red;\n",
       "}\n",
       ".suggestion-name {\n",
       "font-weight: bold;\n",
       "}\n",
       "</style><div class=\"suggestion-name\" style=\"clear:both;\">Redundant <$></div><div class=\"suggestion-row\" style=\"float: left;\"><div class=\"suggestion-warning\">Found:</div><div class=\"highlight-code\" id=\"haskell\">(+) <$> pure 100</div></div><div class=\"suggestion-row\" style=\"float: left;\"><div class=\"suggestion-warning\">Why Not:</div><div class=\"highlight-code\" id=\"haskell\">pure ((+) 100)</div></div>"
      ],
      "text/plain": [
       "Line 3: Redundant <$>\n",
       "Found:\n",
       "(+) <$> pure 100\n",
       "Why not:\n",
       "pure ((+) 100)"
      ]
     },
     "metadata": {},
     "output_type": "display_data"
    },
    {
     "data": {
      "text/plain": [
       "[101,102,103]"
      ]
     },
     "metadata": {},
     "output_type": "display_data"
    },
    {
     "data": {
      "text/plain": [
       "[200,200,200]"
      ]
     },
     "metadata": {},
     "output_type": "display_data"
    }
   ],
   "source": [
    "import Control.Applicative\n",
    "getZipList $ (+) <$> ZipList [1,2,3] <*> ZipList [100,100,100]\n",
    "getZipList $ (+) <$> pure 100 <*> ZipList [100,100,100]"
   ]
  },
  {
   "cell_type": "markdown",
   "id": "sustainable-malawi",
   "metadata": {},
   "source": [
    "## アプリカティブ則\n",
    "- `pure f <*> x = fmap f x`\n",
    "- `pure id <*> v = v`\n",
    "- `pure (.) <*> u <*> v <*> w =u<*> (v<*> w)`\n",
    "- `pure f <*> pure x = pure (f x)`\n",
    "- `u <*> pure y = pure ($ y) <*> u`"
   ]
  },
  {
   "cell_type": "code",
   "execution_count": null,
   "id": "surrounded-stopping",
   "metadata": {},
   "outputs": [],
   "source": []
  }
 ],
 "metadata": {
  "kernelspec": {
   "display_name": "Haskell",
   "language": "haskell",
   "name": "haskell"
  },
  "language_info": {
   "codemirror_mode": "ihaskell",
   "file_extension": ".hs",
   "mimetype": "text/x-haskell",
   "name": "haskell",
   "pygments_lexer": "Haskell",
   "version": "8.10.7"
  }
 },
 "nbformat": 4,
 "nbformat_minor": 5
}
